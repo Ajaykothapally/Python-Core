{
 "cells": [
  {
   "cell_type": "code",
   "execution_count": 1,
   "id": "7f510bc3",
   "metadata": {
    "ExecuteTime": {
     "end_time": "2023-02-21T07:32:32.258001Z",
     "start_time": "2023-02-21T07:32:32.242069Z"
    }
   },
   "outputs": [],
   "source": [
    "tuple_1=(1,2,3,4,5)"
   ]
  },
  {
   "cell_type": "code",
   "execution_count": 3,
   "id": "f096b32c",
   "metadata": {
    "ExecuteTime": {
     "end_time": "2023-02-21T07:34:00.648657Z",
     "start_time": "2023-02-21T07:34:00.640253Z"
    }
   },
   "outputs": [
    {
     "name": "stdout",
     "output_type": "stream",
     "text": [
      "Sum of the tuple is 15\n"
     ]
    }
   ],
   "source": [
    "print(f'Sum of the tuple is {sum(tuple_1)}')"
   ]
  },
  {
   "cell_type": "code",
   "execution_count": 4,
   "id": "311045e4",
   "metadata": {
    "ExecuteTime": {
     "end_time": "2023-02-21T07:38:05.826076Z",
     "start_time": "2023-02-21T07:38:05.810815Z"
    }
   },
   "outputs": [],
   "source": [
    "l=['a','x','d','a']"
   ]
  },
  {
   "cell_type": "code",
   "execution_count": 11,
   "id": "285ddea4",
   "metadata": {
    "ExecuteTime": {
     "end_time": "2023-02-21T07:45:25.916257Z",
     "start_time": "2023-02-21T07:45:25.899271Z"
    }
   },
   "outputs": [
    {
     "name": "stdout",
     "output_type": "stream",
     "text": [
      "Sorted in ascending Order ['a', 'a', 'd', 'x']\n"
     ]
    }
   ],
   "source": [
    "print(f'Sorted in ascending Order \\\n",
    "{sorted(l)}')"
   ]
  },
  {
   "cell_type": "code",
   "execution_count": 13,
   "id": "b822136d",
   "metadata": {
    "ExecuteTime": {
     "end_time": "2023-02-21T07:47:09.174717Z",
     "start_time": "2023-02-21T07:47:09.160114Z"
    }
   },
   "outputs": [
    {
     "name": "stdout",
     "output_type": "stream",
     "text": [
      "Sorted in Decending Order ['x', 'd', 'a', 'a']\n"
     ]
    }
   ],
   "source": [
    "print(f'Sorted in Decending Order \\\n",
    "{sorted(l,reverse=True)}')"
   ]
  },
  {
   "cell_type": "code",
   "execution_count": 8,
   "id": "bb8e6a1e",
   "metadata": {
    "ExecuteTime": {
     "end_time": "2023-02-21T07:42:49.050201Z",
     "start_time": "2023-02-21T07:42:49.038391Z"
    }
   },
   "outputs": [],
   "source": [
    "tuple_2 = (1,2,3,4,5,6)"
   ]
  },
  {
   "cell_type": "code",
   "execution_count": 10,
   "id": "870e7455",
   "metadata": {
    "ExecuteTime": {
     "end_time": "2023-02-21T07:44:58.121301Z",
     "start_time": "2023-02-21T07:44:58.117275Z"
    }
   },
   "outputs": [
    {
     "name": "stdout",
     "output_type": "stream",
     "text": [
      "max value in given tuple:6 \n",
      "min value in given tuple:1\n"
     ]
    }
   ],
   "source": [
    "print(f'max value in given tuple:{max(tuple_2)} \\n\\\n",
    "min value in given tuple:{min(tuple_2)}')"
   ]
  },
  {
   "cell_type": "code",
   "execution_count": 2,
   "id": "2d12a7bc",
   "metadata": {
    "ExecuteTime": {
     "end_time": "2023-02-22T13:52:00.797491Z",
     "start_time": "2023-02-22T13:52:00.780886Z"
    }
   },
   "outputs": [],
   "source": [
    "tuple_3=(1,'ajay',3.5,True)"
   ]
  },
  {
   "cell_type": "code",
   "execution_count": 3,
   "id": "ad27f416",
   "metadata": {
    "ExecuteTime": {
     "end_time": "2023-02-22T13:52:03.495831Z",
     "start_time": "2023-02-22T13:52:03.477068Z"
    }
   },
   "outputs": [
    {
     "name": "stdout",
     "output_type": "stream",
     "text": [
      "Type of First element : <class 'int'>\n",
      "Type of First element : <class 'str'>\n",
      "Type of First element : <class 'float'>\n",
      "Type of First element : <class 'bool'>\n"
     ]
    }
   ],
   "source": [
    "print(f'Type of First element : {type(tuple_3[0])}')\n",
    "print(f'Type of First element : {type(tuple_3[1])}')\n",
    "print(f'Type of First element : {type(tuple_3[2])}')\n",
    "print(f'Type of First element : {type(tuple_3[3])}')"
   ]
  },
  {
   "cell_type": "code",
   "execution_count": null,
   "id": "032c746c",
   "metadata": {},
   "outputs": [],
   "source": []
  }
 ],
 "metadata": {
  "kernelspec": {
   "display_name": "Python 3 (ipykernel)",
   "language": "python",
   "name": "python3"
  },
  "language_info": {
   "codemirror_mode": {
    "name": "ipython",
    "version": 3
   },
   "file_extension": ".py",
   "mimetype": "text/x-python",
   "name": "python",
   "nbconvert_exporter": "python",
   "pygments_lexer": "ipython3",
   "version": "3.9.13"
  }
 },
 "nbformat": 4,
 "nbformat_minor": 5
}
