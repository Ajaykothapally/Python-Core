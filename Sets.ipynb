{
 "cells": [
  {
   "cell_type": "code",
   "execution_count": 2,
   "id": "2e731a68",
   "metadata": {
    "ExecuteTime": {
     "end_time": "2023-02-24T07:45:49.542315Z",
     "start_time": "2023-02-24T07:45:49.521467Z"
    }
   },
   "outputs": [],
   "source": [
    "Var1 = \"I am human\"\n",
    "Var2 = \"We are human\""
   ]
  },
  {
   "cell_type": "code",
   "execution_count": 4,
   "id": "0255ef93",
   "metadata": {
    "ExecuteTime": {
     "end_time": "2023-02-24T07:47:01.613838Z",
     "start_time": "2023-02-24T07:47:01.581031Z"
    }
   },
   "outputs": [
    {
     "data": {
      "text/plain": [
       "True"
      ]
     },
     "execution_count": 4,
     "metadata": {},
     "output_type": "execute_result"
    }
   ],
   "source": [
    "Var1==Var2"
   ]
  },
  {
   "cell_type": "code",
   "execution_count": 5,
   "id": "26addaf1",
   "metadata": {
    "ExecuteTime": {
     "end_time": "2023-02-24T07:48:18.930361Z",
     "start_time": "2023-02-24T07:48:18.919837Z"
    }
   },
   "outputs": [],
   "source": [
    "list_1=[1,2,3,4,5]"
   ]
  },
  {
   "cell_type": "code",
   "execution_count": 9,
   "id": "2426acd9",
   "metadata": {
    "ExecuteTime": {
     "end_time": "2023-02-24T07:50:36.989187Z",
     "start_time": "2023-02-24T07:50:36.979970Z"
    }
   },
   "outputs": [
    {
     "name": "stdout",
     "output_type": "stream",
     "text": [
      "Smallest number from list : 1\n",
      "Largest number from list: 5\n"
     ]
    }
   ],
   "source": [
    "print(f'Smallest number from list : {min(list_1)}\\nLargest number from list: {max(list_1)}')"
   ]
  },
  {
   "cell_type": "code",
   "execution_count": 10,
   "id": "3494c859",
   "metadata": {
    "ExecuteTime": {
     "end_time": "2023-02-24T07:52:21.229745Z",
     "start_time": "2023-02-24T07:52:21.211410Z"
    }
   },
   "outputs": [],
   "source": [
    "tuple_1 = (1,6,8,9,3,4,)"
   ]
  },
  {
   "cell_type": "code",
   "execution_count": 16,
   "id": "ad4dae3e",
   "metadata": {
    "ExecuteTime": {
     "end_time": "2023-02-24T07:55:16.372576Z",
     "start_time": "2023-02-24T07:55:16.364817Z"
    }
   },
   "outputs": [],
   "source": [
    "tuple_2 = sorted(tuple_1)"
   ]
  },
  {
   "cell_type": "code",
   "execution_count": 17,
   "id": "96cfaa58",
   "metadata": {
    "ExecuteTime": {
     "end_time": "2023-02-24T07:55:20.468813Z",
     "start_time": "2023-02-24T07:55:20.449594Z"
    }
   },
   "outputs": [
    {
     "data": {
      "text/plain": [
       "[1, 3, 4, 6, 8, 9]"
      ]
     },
     "execution_count": 17,
     "metadata": {},
     "output_type": "execute_result"
    }
   ],
   "source": [
    "tuple_2"
   ]
  },
  {
   "cell_type": "code",
   "execution_count": 18,
   "id": "7db7391e",
   "metadata": {
    "ExecuteTime": {
     "end_time": "2023-02-24T07:55:27.472363Z",
     "start_time": "2023-02-24T07:55:27.460428Z"
    }
   },
   "outputs": [
    {
     "data": {
      "text/plain": [
       "(1, 3, 4, 6, 8, 9)"
      ]
     },
     "execution_count": 18,
     "metadata": {},
     "output_type": "execute_result"
    }
   ],
   "source": [
    "tuple(tuple_2)"
   ]
  },
  {
   "cell_type": "code",
   "execution_count": 26,
   "id": "e69f71ac",
   "metadata": {
    "ExecuteTime": {
     "end_time": "2023-02-24T07:58:41.412825Z",
     "start_time": "2023-02-24T07:58:41.394072Z"
    }
   },
   "outputs": [],
   "source": [
    "Set_1 = {1,2,3,4,5}\n",
    "Set_2 = {4,5,6,7,8}"
   ]
  },
  {
   "cell_type": "code",
   "execution_count": 27,
   "id": "7e74f698",
   "metadata": {
    "ExecuteTime": {
     "end_time": "2023-02-24T07:59:20.782429Z",
     "start_time": "2023-02-24T07:59:20.767551Z"
    }
   },
   "outputs": [
    {
     "data": {
      "text/plain": [
       "{4, 5}"
      ]
     },
     "execution_count": 27,
     "metadata": {},
     "output_type": "execute_result"
    }
   ],
   "source": [
    "Set_1.intersection(Set_2)"
   ]
  }
 ],
 "metadata": {
  "kernelspec": {
   "display_name": "Python 3 (ipykernel)",
   "language": "python",
   "name": "python3"
  },
  "language_info": {
   "codemirror_mode": {
    "name": "ipython",
    "version": 3
   },
   "file_extension": ".py",
   "mimetype": "text/x-python",
   "name": "python",
   "nbconvert_exporter": "python",
   "pygments_lexer": "ipython3",
   "version": "3.9.13"
  }
 },
 "nbformat": 4,
 "nbformat_minor": 5
}
