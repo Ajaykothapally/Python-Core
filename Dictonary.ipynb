{
 "cells": [
  {
   "cell_type": "code",
   "execution_count": 1,
   "id": "5a5115dc",
   "metadata": {
    "ExecuteTime": {
     "end_time": "2023-02-27T08:26:17.320505Z",
     "start_time": "2023-02-27T08:26:17.298499Z"
    }
   },
   "outputs": [],
   "source": [
    "List_1={1:'ajay',2:'anil',3:'salem'}"
   ]
  },
  {
   "cell_type": "code",
   "execution_count": 2,
   "id": "3e707195",
   "metadata": {
    "ExecuteTime": {
     "end_time": "2023-02-27T08:26:36.776606Z",
     "start_time": "2023-02-27T08:26:36.758485Z"
    }
   },
   "outputs": [
    {
     "data": {
      "text/plain": [
       "{1: 'ajay', 2: 'anil', 3: 'salem'}"
      ]
     },
     "execution_count": 2,
     "metadata": {},
     "output_type": "execute_result"
    }
   ],
   "source": [
    "List_1"
   ]
  },
  {
   "cell_type": "code",
   "execution_count": 7,
   "id": "135afa78",
   "metadata": {
    "ExecuteTime": {
     "end_time": "2023-02-27T08:30:14.537801Z",
     "start_time": "2023-02-27T08:30:14.525771Z"
    }
   },
   "outputs": [
    {
     "data": {
      "text/plain": [
       "{4: 'Rocky', 5: 'John'}"
      ]
     },
     "execution_count": 7,
     "metadata": {},
     "output_type": "execute_result"
    }
   ],
   "source": [
    "List_2={4:'Rocky',5:'John'}\n",
    "List_2"
   ]
  },
  {
   "cell_type": "code",
   "execution_count": 10,
   "id": "fb183dda",
   "metadata": {
    "ExecuteTime": {
     "end_time": "2023-02-27T08:33:24.486000Z",
     "start_time": "2023-02-27T08:33:24.468384Z"
    }
   },
   "outputs": [],
   "source": [
    "Scores=[('Maths',85),('Science',92),('History',90)]"
   ]
  },
  {
   "cell_type": "code",
   "execution_count": 14,
   "id": "65574e75",
   "metadata": {
    "ExecuteTime": {
     "end_time": "2023-02-27T08:35:49.821389Z",
     "start_time": "2023-02-27T08:35:49.816188Z"
    }
   },
   "outputs": [
    {
     "data": {
      "text/plain": [
       "{'Maths': 85, 'Science': 92, 'History': 90}"
      ]
     },
     "execution_count": 14,
     "metadata": {},
     "output_type": "execute_result"
    }
   ],
   "source": [
    "Person_Scores=dict(Scores)\n",
    "Person_Scores"
   ]
  }
 ],
 "metadata": {
  "kernelspec": {
   "display_name": "Python 3 (ipykernel)",
   "language": "python",
   "name": "python3"
  },
  "language_info": {
   "codemirror_mode": {
    "name": "ipython",
    "version": 3
   },
   "file_extension": ".py",
   "mimetype": "text/x-python",
   "name": "python",
   "nbconvert_exporter": "python",
   "pygments_lexer": "ipython3",
   "version": "3.9.13"
  }
 },
 "nbformat": 4,
 "nbformat_minor": 5
}
